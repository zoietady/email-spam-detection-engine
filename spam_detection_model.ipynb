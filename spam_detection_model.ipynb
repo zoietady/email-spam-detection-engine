{
 "cells": [
  {
   "cell_type": "code",
   "execution_count": 83,
   "id": "ce6c4135",
   "metadata": {},
   "outputs": [],
   "source": [
    "# import dependencies\n",
    "import numpy as np\n",
    "import pandas as pd\n",
    "import matplotlib.pyplot as plt\n",
    "\n",
    "from sklearn.feature_extraction.text import CountVectorizer\n",
    "from sklearn.naive_bayes import MultinomialNB\n",
    "from sklearn.naive_bayes import GaussianNB\n",
    "from sklearn.linear_model import LogisticRegression\n",
    "from sklearn.tree import DecisionTreeClassifier\n",
    "from sklearn.preprocessing import StandardScaler\n",
    "from sklearn.svm import SVC\n",
    "from sklearn.pipeline import Pipeline\n",
    "from sklearn.model_selection import train_test_split\n",
    "import pickle"
   ]
  },
  {
   "cell_type": "code",
   "execution_count": 2,
   "id": "0d9ba427",
   "metadata": {},
   "outputs": [],
   "source": [
    "# read dataset\n",
    "df=pd.read_csv('spam_ham_dataset.csv')"
   ]
  },
  {
   "cell_type": "code",
   "execution_count": 3,
   "id": "47fee4e3",
   "metadata": {},
   "outputs": [
    {
     "data": {
      "text/html": [
       "<div>\n",
       "<style scoped>\n",
       "    .dataframe tbody tr th:only-of-type {\n",
       "        vertical-align: middle;\n",
       "    }\n",
       "\n",
       "    .dataframe tbody tr th {\n",
       "        vertical-align: top;\n",
       "    }\n",
       "\n",
       "    .dataframe thead th {\n",
       "        text-align: right;\n",
       "    }\n",
       "</style>\n",
       "<table border=\"1\" class=\"dataframe\">\n",
       "  <thead>\n",
       "    <tr style=\"text-align: right;\">\n",
       "      <th></th>\n",
       "      <th>Unnamed: 0</th>\n",
       "      <th>label</th>\n",
       "      <th>text</th>\n",
       "      <th>label_num</th>\n",
       "    </tr>\n",
       "  </thead>\n",
       "  <tbody>\n",
       "    <tr>\n",
       "      <th>0</th>\n",
       "      <td>605</td>\n",
       "      <td>ham</td>\n",
       "      <td>Subject: enron methanol ; meter # : 988291\\r\\n...</td>\n",
       "      <td>0</td>\n",
       "    </tr>\n",
       "    <tr>\n",
       "      <th>1</th>\n",
       "      <td>2349</td>\n",
       "      <td>ham</td>\n",
       "      <td>Subject: hpl nom for january 9 , 2001\\r\\n( see...</td>\n",
       "      <td>0</td>\n",
       "    </tr>\n",
       "    <tr>\n",
       "      <th>2</th>\n",
       "      <td>3624</td>\n",
       "      <td>ham</td>\n",
       "      <td>Subject: neon retreat\\r\\nho ho ho , we ' re ar...</td>\n",
       "      <td>0</td>\n",
       "    </tr>\n",
       "    <tr>\n",
       "      <th>3</th>\n",
       "      <td>4685</td>\n",
       "      <td>spam</td>\n",
       "      <td>Subject: photoshop , windows , office . cheap ...</td>\n",
       "      <td>1</td>\n",
       "    </tr>\n",
       "    <tr>\n",
       "      <th>4</th>\n",
       "      <td>2030</td>\n",
       "      <td>ham</td>\n",
       "      <td>Subject: re : indian springs\\r\\nthis deal is t...</td>\n",
       "      <td>0</td>\n",
       "    </tr>\n",
       "  </tbody>\n",
       "</table>\n",
       "</div>"
      ],
      "text/plain": [
       "   Unnamed: 0 label                                               text  \\\n",
       "0         605   ham  Subject: enron methanol ; meter # : 988291\\r\\n...   \n",
       "1        2349   ham  Subject: hpl nom for january 9 , 2001\\r\\n( see...   \n",
       "2        3624   ham  Subject: neon retreat\\r\\nho ho ho , we ' re ar...   \n",
       "3        4685  spam  Subject: photoshop , windows , office . cheap ...   \n",
       "4        2030   ham  Subject: re : indian springs\\r\\nthis deal is t...   \n",
       "\n",
       "   label_num  \n",
       "0          0  \n",
       "1          0  \n",
       "2          0  \n",
       "3          1  \n",
       "4          0  "
      ]
     },
     "execution_count": 3,
     "metadata": {},
     "output_type": "execute_result"
    }
   ],
   "source": [
    "df.head(5)"
   ]
  },
  {
   "cell_type": "code",
   "execution_count": 4,
   "id": "251e7dcb",
   "metadata": {},
   "outputs": [],
   "source": [
    "df = df.drop(['Unnamed: 0'], axis=1)"
   ]
  },
  {
   "cell_type": "code",
   "execution_count": 5,
   "id": "4c2e7b87",
   "metadata": {},
   "outputs": [],
   "source": [
    "X_train,X_test,y_train,y_test=train_test_split(df.text,df.label_num,test_size=0.20)"
   ]
  },
  {
   "cell_type": "code",
   "execution_count": 6,
   "id": "5fc5ca33",
   "metadata": {},
   "outputs": [],
   "source": [
    "vectorizer = CountVectorizer()\n",
    "X = vectorizer.fit_transform(df.text)"
   ]
  },
  {
   "cell_type": "code",
   "execution_count": 9,
   "id": "c2303983",
   "metadata": {},
   "outputs": [
    {
     "data": {
      "text/plain": [
       "array([[1, 0, 0, ..., 0, 0, 0],\n",
       "       [0, 0, 0, ..., 0, 0, 0],\n",
       "       [0, 0, 0, ..., 0, 0, 0],\n",
       "       ...,\n",
       "       [0, 0, 0, ..., 0, 0, 0],\n",
       "       [0, 0, 0, ..., 0, 0, 0],\n",
       "       [0, 0, 0, ..., 0, 0, 0]], dtype=int64)"
      ]
     },
     "execution_count": 9,
     "metadata": {},
     "output_type": "execute_result"
    }
   ],
   "source": [
    "X.toarray()"
   ]
  },
  {
   "cell_type": "code",
   "execution_count": 21,
   "id": "d0a8ac0f",
   "metadata": {},
   "outputs": [
    {
     "data": {
      "text/plain": [
       "Pipeline(steps=[('vectorizer', CountVectorizer()), ('nb', MultinomialNB())])"
      ]
     },
     "execution_count": 21,
     "metadata": {},
     "output_type": "execute_result"
    }
   ],
   "source": [
    "mnb_clf=Pipeline([\n",
    "    ('vectorizer',CountVectorizer()),\n",
    "    ('nb',MultinomialNB())\n",
    "])\n",
    "\n",
    "mnb_clf.fit(X_train,y_train)"
   ]
  },
  {
   "cell_type": "code",
   "execution_count": 34,
   "id": "d65e053e",
   "metadata": {},
   "outputs": [
    {
     "data": {
      "text/plain": [
       "Pipeline(steps=[('vectorizer', CountVectorizer()),\n",
       "                ('lr', LogisticRegression(max_iter=200))])"
      ]
     },
     "execution_count": 34,
     "metadata": {},
     "output_type": "execute_result"
    }
   ],
   "source": [
    "lr_clf=Pipeline([\n",
    "    ('vectorizer',CountVectorizer()),\n",
    "    ('lr',LogisticRegression(max_iter=200))\n",
    "])\n",
    "\n",
    "lr_clf.fit(X_train,y_train)"
   ]
  },
  {
   "cell_type": "code",
   "execution_count": 35,
   "id": "c2399261",
   "metadata": {},
   "outputs": [
    {
     "data": {
      "text/plain": [
       "Pipeline(steps=[('vectorizer', CountVectorizer()),\n",
       "                ('dt', DecisionTreeClassifier())])"
      ]
     },
     "execution_count": 35,
     "metadata": {},
     "output_type": "execute_result"
    }
   ],
   "source": [
    "dt_clf=Pipeline([\n",
    "    ('vectorizer',CountVectorizer()),\n",
    "    ('dt',DecisionTreeClassifier())\n",
    "])\n",
    "\n",
    "dt_clf.fit(X_train,y_train)"
   ]
  },
  {
   "cell_type": "code",
   "execution_count": 36,
   "id": "dc5015c2",
   "metadata": {},
   "outputs": [
    {
     "data": {
      "text/plain": [
       "Pipeline(steps=[('vectorizer', CountVectorizer()), ('dt', SVC(gamma='auto'))])"
      ]
     },
     "execution_count": 36,
     "metadata": {},
     "output_type": "execute_result"
    }
   ],
   "source": [
    "svm_clf=Pipeline([\n",
    "    ('vectorizer',CountVectorizer()),\n",
    "    ('dt',SVC(gamma='auto'))\n",
    "])\n",
    "\n",
    "svm_clf.fit(X_train,y_train)"
   ]
  },
  {
   "cell_type": "code",
   "execution_count": 22,
   "id": "6875bdac",
   "metadata": {},
   "outputs": [
    {
     "data": {
      "text/plain": [
       "0.9768115942028985"
      ]
     },
     "execution_count": 22,
     "metadata": {},
     "output_type": "execute_result"
    }
   ],
   "source": [
    "mnb_clf.score(X_test,y_test)"
   ]
  },
  {
   "cell_type": "code",
   "execution_count": 34,
   "id": "28b99ad1",
   "metadata": {},
   "outputs": [
    {
     "data": {
      "text/plain": [
       "0.9748792270531401"
      ]
     },
     "execution_count": 34,
     "metadata": {},
     "output_type": "execute_result"
    }
   ],
   "source": [
    "lr_clf.score(X_test,y_test)"
   ]
  },
  {
   "cell_type": "code",
   "execution_count": 82,
   "id": "40bf5c65",
   "metadata": {},
   "outputs": [
    {
     "data": {
      "text/plain": [
       "0.9555555555555556"
      ]
     },
     "execution_count": 82,
     "metadata": {},
     "output_type": "execute_result"
    }
   ],
   "source": [
    "dt_clf.score(X_test,y_test)"
   ]
  },
  {
   "cell_type": "code",
   "execution_count": 13,
   "id": "dab5b443",
   "metadata": {},
   "outputs": [
    {
     "data": {
      "text/plain": [
       "0.7294685990338164"
      ]
     },
     "execution_count": 13,
     "metadata": {},
     "output_type": "execute_result"
    }
   ],
   "source": [
    "svm_clf.score(X_test,y_test)"
   ]
  },
  {
   "cell_type": "code",
   "execution_count": 52,
   "id": "a54cb70d",
   "metadata": {},
   "outputs": [],
   "source": [
    "from sklearn.metrics import accuracy_score\n",
    "from sklearn.metrics import precision_score\n",
    "from sklearn.metrics import recall_score\n",
    "from sklearn.metrics import f1_score\n",
    "from sklearn.metrics import plot_confusion_matrix\n",
    "from sklearn.metrics import confusion_matrix\n",
    "from sklearn.metrics import classification_report\n",
    "from sklearn.metrics import ConfusionMatrixDisplay"
   ]
  },
  {
   "cell_type": "code",
   "execution_count": 76,
   "id": "6d2acb6e",
   "metadata": {},
   "outputs": [
    {
     "name": "stdout",
     "output_type": "stream",
     "text": [
      "accuracy score: 0.9768115942028985\n",
      "percision score: [0.98095238 0.96666667]\n",
      "recall score: [0.98632011 0.95394737]\n",
      "f1 score: [0.98362892 0.9602649 ]\n",
      "\n",
      "classification report via sklearn\n",
      "\n",
      "              precision    recall  f1-score   support\n",
      "\n",
      "           0       0.98      0.99      0.98       731\n",
      "           1       0.97      0.95      0.96       304\n",
      "\n",
      "    accuracy                           0.98      1035\n",
      "   macro avg       0.97      0.97      0.97      1035\n",
      "weighted avg       0.98      0.98      0.98      1035\n",
      "\n"
     ]
    },
    {
     "data": {
      "image/png": "[encoded data removed]",
      "text/plain": [
       "<Figure size 432x288 with 2 Axes>"
      ]
     },
     "metadata": {
      "needs_background": "light"
     },
     "output_type": "display_data"
    }
   ],
   "source": [
    "y_pred = mnb_clf.predict(X_test)\n",
    "print(\"accuracy score: \" + str(accuracy_score(y_test, y_pred)))\n",
    "print(\"percision score: \" + str(precision_score(y_test, y_pred, average=None)))\n",
    "print(\"recall score: \" + str(recall_score(y_test, y_pred, average=None)))\n",
    "print(\"f1 score: \" + str(f1_score(y_test, y_pred, average=None)))\n",
    "\n",
    "print(\"\\nclassification report via sklearn\\n\")\n",
    "print(classification_report(y_test, y_pred))\n",
    "\n",
    "confusion_matrix(y_test, y_pred)\n",
    "plot_confusion_matrix(mnb_clf, X_test, y_test, cmap=plt.cm.Blues, normalize=\"true\")\n",
    "plt.show()"
   ]
  },
  {
   "cell_type": "code",
   "execution_count": 77,
   "id": "fcccffec",
   "metadata": {},
   "outputs": [
    {
     "name": "stdout",
     "output_type": "stream",
     "text": [
      "accuracy score: 0.9845410628019323\n",
      "percision score: [0.99039781 0.97058824]\n",
      "recall score: [0.9876881  0.97697368]\n",
      "f1 score: [0.9890411  0.97377049]\n",
      "\n",
      "classification report via sklearn\n",
      "\n",
      "              precision    recall  f1-score   support\n",
      "\n",
      "           0       0.99      0.99      0.99       731\n",
      "           1       0.97      0.98      0.97       304\n",
      "\n",
      "    accuracy                           0.98      1035\n",
      "   macro avg       0.98      0.98      0.98      1035\n",
      "weighted avg       0.98      0.98      0.98      1035\n",
      "\n"
     ]
    },
    {
     "data": {
      "image/png": "[encoded data removed]",
      "text/plain": [
       "<Figure size 432x288 with 2 Axes>"
      ]
     },
     "metadata": {
      "needs_background": "light"
     },
     "output_type": "display_data"
    }
   ],
   "source": [
    "y_pred = lr_clf.predict(X_test)\n",
    "print(\"accuracy score: \" + str(accuracy_score(y_test, y_pred)))\n",
    "print(\"percision score: \" + str(precision_score(y_test, y_pred, average=None)))\n",
    "print(\"recall score: \" + str(recall_score(y_test, y_pred, average=None)))\n",
    "print(\"f1 score: \" + str(f1_score(y_test, y_pred, average=None)))\n",
    "\n",
    "print(\"\\nclassification report via sklearn\\n\")\n",
    "print(classification_report(y_test, y_pred))\n",
    "\n",
    "confusion_matrix(y_test, y_pred)\n",
    "plot_confusion_matrix(lr_clf, X_test, y_test, cmap=plt.cm.Blues, normalize=\"true\")\n",
    "plt.show()"
   ]
  },
  {
   "cell_type": "code",
   "execution_count": 78,
   "id": "34c62977",
   "metadata": {},
   "outputs": [
    {
     "name": "stdout",
     "output_type": "stream",
     "text": [
      "accuracy score: 0.9555555555555556\n",
      "percision score: [0.97902098 0.903125  ]\n",
      "recall score: [0.95759234 0.95065789]\n",
      "f1 score: [0.96818811 0.92628205]\n",
      "\n",
      "classification report via sklearn\n",
      "\n",
      "              precision    recall  f1-score   support\n",
      "\n",
      "           0       0.98      0.96      0.97       731\n",
      "           1       0.90      0.95      0.93       304\n",
      "\n",
      "    accuracy                           0.96      1035\n",
      "   macro avg       0.94      0.95      0.95      1035\n",
      "weighted avg       0.96      0.96      0.96      1035\n",
      "\n"
     ]
    },
    {
     "data": {
      "image/png": "[encoded data removed]",
      "text/plain": [
       "<Figure size 432x288 with 2 Axes>"
      ]
     },
     "metadata": {
      "needs_background": "light"
     },
     "output_type": "display_data"
    }
   ],
   "source": [
    "y_pred = dt_clf.predict(X_test)\n",
    "print(\"accuracy score: \" + str(accuracy_score(y_test, y_pred)))\n",
    "print(\"percision score: \" + str(precision_score(y_test, y_pred, average=None)))\n",
    "print(\"recall score: \" + str(recall_score(y_test, y_pred, average=None)))\n",
    "print(\"f1 score: \" + str(f1_score(y_test, y_pred, average=None)))\n",
    "\n",
    "print(\"\\nclassification report via sklearn\\n\")\n",
    "print(classification_report(y_test, y_pred))\n",
    "\n",
    "confusion_matrix(y_test, y_pred)\n",
    "plot_confusion_matrix(dt_clf, X_test, y_test, cmap=plt.cm.Blues, normalize=\"true\")\n",
    "plt.show()"
   ]
  },
  {
   "cell_type": "code",
   "execution_count": 79,
   "id": "d5059083",
   "metadata": {},
   "outputs": [
    {
     "name": "stdout",
     "output_type": "stream",
     "text": [
      "accuracy score: 0.7294685990338164\n",
      "percision score: [0.72304649 1.        ]\n",
      "recall score: [1.         0.07894737]\n",
      "f1 score: [0.83926521 0.14634146]\n",
      "\n",
      "classification report via sklearn\n",
      "\n",
      "              precision    recall  f1-score   support\n",
      "\n",
      "           0       0.72      1.00      0.84       731\n",
      "           1       1.00      0.08      0.15       304\n",
      "\n",
      "    accuracy                           0.73      1035\n",
      "   macro avg       0.86      0.54      0.49      1035\n",
      "weighted avg       0.80      0.73      0.64      1035\n",
      "\n"
     ]
    },
    {
     "data": {
      "image/png": "[encoded data removed]",
      "text/plain": [
       "<Figure size 432x288 with 2 Axes>"
      ]
     },
     "metadata": {
      "needs_background": "light"
     },
     "output_type": "display_data"
    }
   ],
   "source": [
    "y_pred = svm_clf.predict(X_test)\n",
    "print(\"accuracy score: \" + str(accuracy_score(y_test, y_pred)))\n",
    "print(\"percision score: \" + str(precision_score(y_test, y_pred, average=None)))\n",
    "print(\"recall score: \" + str(recall_score(y_test, y_pred, average=None)))\n",
    "print(\"f1 score: \" + str(f1_score(y_test, y_pred, average=None)))\n",
    "\n",
    "print(\"\\nclassification report via sklearn\\n\")\n",
    "print(classification_report(y_test, y_pred))\n",
    "\n",
    "confusion_matrix(y_test, y_pred)\n",
    "plot_confusion_matrix(svm_clf, X_test, y_test, cmap=plt.cm.Blues, normalize=\"true\")\n",
    "plt.show()"
   ]
  },
  {
   "cell_type": "code",
   "execution_count": 86,
   "id": "5e5a8f2b",
   "metadata": {},
   "outputs": [],
   "source": [
    "filename = 'lr_spam_detection_model.sav'\n",
    "pickle.dump(lr_clf, open(filename, 'wb'))"
   ]
  },
  {
   "cell_type": "code",
   "execution_count": 36,
   "id": "c3f4460e",
   "metadata": {},
   "outputs": [],
   "source": [
    "lowercase ='abcdefghijklmnopqrstuvwxyz'\n",
    "uppercase ='ABCDEFGHIJKLMNOPQRSTUVWXYZ'\n",
    "symbols='#!/\\$%?&*()_+-^[]{|}><~;:.,»«@£=\"'+\"'\"\n",
    "numbers='0123456789'\n",
    "\n",
    "def lower_score(text):\n",
    "    return sum([char_ in lowercase for char_ in text])/len(text)\n",
    "\n",
    "def upper_score(text):\n",
    "    return sum([char_ in uppercase for char_ in text])/len(text)\n",
    "\n",
    "def symbol_score(text):\n",
    "    return sum([char_ in symbols for char_ in text])/len(text)\n",
    "\n",
    "def number_score(text):\n",
    "    return sum([char_ in numbers for char_ in text])/len(text)\n",
    "\n",
    "def space_score(text):\n",
    "    return sum([char_ in ' ' for char_ in text])/len(text)\n",
    "\n",
    "def length(text):\n",
    "    return len(text)"
   ]
  },
  {
   "cell_type": "code",
   "execution_count": 37,
   "id": "6c96a5f6",
   "metadata": {},
   "outputs": [],
   "source": [
    "df_fe = pd.DataFrame()  \n",
    "df_fe['lower_score'] = df['text'].apply(lower_score)\n",
    "df_fe['upper_score'] = df['text'].apply(upper_score)\n",
    "df_fe['number_score'] = df['text'].apply(number_score)\n",
    "df_fe['symbol_score'] = df['text'].apply(symbol_score)\n",
    "df_fe['space_score'] = df['text'].apply(space_score)"
   ]
  },
  {
   "cell_type": "code",
   "execution_count": 39,
   "id": "b7526c3f",
   "metadata": {},
   "outputs": [],
   "source": [
    "X_train,X_test,y_train,y_test=train_test_split(df_fe,df.label_num,test_size=0.20)"
   ]
  },
  {
   "cell_type": "code",
   "execution_count": 40,
   "id": "c7c2d395",
   "metadata": {},
   "outputs": [
    {
     "data": {
      "text/plain": [
       "DecisionTreeClassifier()"
      ]
     },
     "execution_count": 40,
     "metadata": {},
     "output_type": "execute_result"
    }
   ],
   "source": [
    "fe_nb_clf = MultinomialNB()\n",
    "fe_lr_clf = LogisticRegression(max_iter=200)\n",
    "fe_dt_clf = DecisionTreeClassifier()\n",
    "\n",
    "fe_nb_clf.fit(X_train,y_train)\n",
    "fe_lr_clf.fit(X_train,y_train)\n",
    "fe_dt_clf.fit(X_train,y_train)"
   ]
  },
  {
   "cell_type": "code",
   "execution_count": 41,
   "id": "55220c78",
   "metadata": {},
   "outputs": [
    {
     "data": {
      "text/plain": [
       "0.6908212560386473"
      ]
     },
     "execution_count": 41,
     "metadata": {},
     "output_type": "execute_result"
    }
   ],
   "source": [
    "fe_nb_clf.score(X_test,y_test)"
   ]
  },
  {
   "cell_type": "code",
   "execution_count": 42,
   "id": "7491b3fd",
   "metadata": {},
   "outputs": [
    {
     "data": {
      "text/plain": [
       "0.7256038647342995"
      ]
     },
     "execution_count": 42,
     "metadata": {},
     "output_type": "execute_result"
    }
   ],
   "source": [
    "fe_lr_clf.score(X_test,y_test)"
   ]
  },
  {
   "cell_type": "code",
   "execution_count": 43,
   "id": "4ea8e98a",
   "metadata": {},
   "outputs": [
    {
     "data": {
      "text/plain": [
       "0.8038647342995169"
      ]
     },
     "execution_count": 43,
     "metadata": {},
     "output_type": "execute_result"
    }
   ],
   "source": [
    "fe_dt_clf.score(X_test,y_test)"
   ]
  },
  {
   "cell_type": "code",
   "execution_count": 50,
   "id": "57ffe107",
   "metadata": {},
   "outputs": [],
   "source": [
    "df_std_fe = pd.DataFrame()  \n",
    "\n",
    "std_ls = np.std(df_fe['lower_score'])\n",
    "mean_ls = np.mean(df_fe['lower_score'])\n",
    "df_std_fe['lower_score_std'] = (df_fe['lower_score']-mean_ls)/std_ls\n",
    "\n",
    "std_us = np.std(df_fe['upper_score'])\n",
    "mean_us = np.mean(df_fe['upper_score'])\n",
    "df_std_fe['upper_score_std'] = (df_fe['upper_score']-mean_us)/std_us\n",
    "\n",
    "std_ns = np.std(df_fe['number_score'])\n",
    "mean_ns = np.mean(df_fe['number_score'])\n",
    "df_std_fe['number_score_std'] = (df_fe['number_score']-mean_ns)/std_ns\n",
    "\n",
    "std_ss = np.std(df_fe['symbol_score'])\n",
    "mean_ss = np.mean(df_fe['symbol_score'])\n",
    "df_std_fe['symbol_score_std'] = (df_fe['symbol_score']-mean_ss)/std_ss\n",
    "\n",
    "std_sps = np.std(df_fe['space_score'])\n",
    "mean_sps = np.mean(df_fe['space_score'])\n",
    "df_std_fe['space_score_std'] = (df_fe['space_score']-mean_sps)/std_sps"
   ]
  },
  {
   "cell_type": "code",
   "execution_count": 51,
   "id": "e0e89fef",
   "metadata": {},
   "outputs": [],
   "source": [
    "X_train,X_test,y_train,y_test=train_test_split(df_std_fe,df.label_num,test_size=0.20)"
   ]
  },
  {
   "cell_type": "code",
   "execution_count": 53,
   "id": "f501fa17",
   "metadata": {},
   "outputs": [
    {
     "data": {
      "text/plain": [
       "DecisionTreeClassifier()"
      ]
     },
     "execution_count": 53,
     "metadata": {},
     "output_type": "execute_result"
    }
   ],
   "source": [
    "std_fe_nb_clf = GaussianNB()\n",
    "std_fe_lr_clf = LogisticRegression(max_iter=200)\n",
    "std_fe_dt_clf = DecisionTreeClassifier()\n",
    "\n",
    "std_fe_nb_clf.fit(X_train,y_train)\n",
    "std_fe_lr_clf.fit(X_train,y_train)\n",
    "std_fe_dt_clf.fit(X_train,y_train)"
   ]
  },
  {
   "cell_type": "code",
   "execution_count": 54,
   "id": "33bdd353",
   "metadata": {},
   "outputs": [
    {
     "data": {
      "text/plain": [
       "0.7420289855072464"
      ]
     },
     "execution_count": 54,
     "metadata": {},
     "output_type": "execute_result"
    }
   ],
   "source": [
    "fe_nb_clf.score(X_test,y_test)"
   ]
  },
  {
   "cell_type": "code",
   "execution_count": 55,
   "id": "12a5b1b6",
   "metadata": {},
   "outputs": [
    {
     "data": {
      "text/plain": [
       "0.7072463768115942"
      ]
     },
     "execution_count": 55,
     "metadata": {},
     "output_type": "execute_result"
    }
   ],
   "source": [
    "fe_lr_clf.score(X_test,y_test)"
   ]
  },
  {
   "cell_type": "code",
   "execution_count": 56,
   "id": "421abf6f",
   "metadata": {},
   "outputs": [
    {
     "data": {
      "text/plain": [
       "0.43671497584541064"
      ]
     },
     "execution_count": 56,
     "metadata": {},
     "output_type": "execute_result"
    }
   ],
   "source": [
    "fe_dt_clf.score(X_test,y_test)"
   ]
  },
  {
   "cell_type": "code",
   "execution_count": null,
   "id": "5aec5e14",
   "metadata": {},
   "outputs": [],
   "source": []
  }
 ],
 "metadata": {
  "kernelspec": {
   "display_name": "Python 3 (ipykernel)",
   "language": "python",
   "name": "python3"
  },
  "language_info": {
   "codemirror_mode": {
    "name": "ipython",
    "version": 3
   },
   "file_extension": ".py",
   "mimetype": "text/x-python",
   "name": "python",
   "nbconvert_exporter": "python",
   "pygments_lexer": "ipython3",
   "version": "3.8.5"
  }
 },
 "nbformat": 4,
 "nbformat_minor": 5
}
